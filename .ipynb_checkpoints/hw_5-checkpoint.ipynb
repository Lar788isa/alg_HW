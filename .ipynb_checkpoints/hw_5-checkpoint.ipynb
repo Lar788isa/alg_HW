{
 "cells": [
  {
   "cell_type": "raw",
   "metadata": {},
   "source": [
    "Задание 1:\n",
    "Посчитайте частные производные функций (как обычно, необходимо решение на бумажке или в LaTeX и на numpy):\n",
    "\n",
    "1) f(x,y)=2x^2y^3 + 1/x + y^2x + 7, а для этой функции также градиент в точке (1,2)\n",
    "- решение:\n",
    "    f'x = 4*x*(y**3)- 1/(x*x) + (y*y)- частная производная по х\n",
    "    f'y = 6*(x*x)*(y*y) +2yx  - частная производная по y\n",
    "    \n",
    "    f'x(1,2)= 4*1*(2**3) -1/(1*1) + (2*2) = 35  значение частной производной по х в точки (1,2)\n",
    "    f'y(1,2)= 6*(1*1)*(2*2) + 2*2*1 = 28  значение частной производной по у в точки (1,2)\n",
    "    \n",
    "    grad (1,2) = (4,8)"
   ]
  },
  {
   "cell_type": "code",
   "execution_count": 74,
   "metadata": {},
   "outputs": [],
   "source": [
    "import numpy as np\n",
    "from scipy.optimize import approx_fprime\n",
    "from sympy import diff, symbols, cos, sin\n",
    "import math as math\n",
    "from scipy.optimize import minimize"
   ]
  },
  {
   "cell_type": "code",
   "execution_count": 2,
   "metadata": {},
   "outputs": [],
   "source": [
    "# 1.\n",
    "def f(x, c0, c1):\n",
    "    return c0*(x[0]**2)*x[1]**3 + 1/x[0] + (x[1]**2)*x[0] +c1"
   ]
  },
  {
   "cell_type": "code",
   "execution_count": 3,
   "metadata": {},
   "outputs": [
    {
     "data": {
      "text/plain": [
       "array([35.00000024, 28.00000024])"
      ]
     },
     "execution_count": 3,
     "metadata": {},
     "output_type": "execute_result"
    }
   ],
   "source": [
    "x = np.array([1,2])\n",
    "c0, c1 = (2,7)\n",
    "eps = np.sqrt(np.finfo(float).eps)\n",
    "approx_fprime(x, f, [eps, eps], c0, c1)\n",
    "\n",
    "# Градиент функции в точки (1,2) совпадает с результатом ручного вычисления!"
   ]
  },
  {
   "cell_type": "raw",
   "metadata": {},
   "source": [
    "**2) f(x,y)=x^2y - sin(xy) + cos(x^2) + 6y**\n",
    " \n",
    "решение: \n",
    "    f'x = 2*xy - y*cos(xy) - 2*sin(x)*cos(x) - частная производная по х\n",
    "    f'y = x*x - x*cos(xy) + 6   - частная производная по y\n",
    "    \n",
    "    f'x(1,2) = 2*1*2 - 2*cos(2) - 2*sin(1)*cos(1) = 3,9 значение частной производной по х в точки (1,2)\n",
    "    f'y(1,2) = 1 -1*cos(2) +6 = 7,416 значение частной производной по у в точки (1,2)\n",
    "    \n"
   ]
  },
  {
   "cell_type": "code",
   "execution_count": 4,
   "metadata": {},
   "outputs": [],
   "source": [
    "# 2.\n",
    "def f2(x, c0, c1):\n",
    "    return c0*(x[0]**2)*x[1] - math.sin(x[0]*x[1]) + math.cos(x[0]*x[0]) + c1*x[1]"
   ]
  },
  {
   "cell_type": "code",
   "execution_count": 5,
   "metadata": {},
   "outputs": [
    {
     "data": {
      "text/plain": [
       "array([3.14935184, 7.41614687])"
      ]
     },
     "execution_count": 5,
     "metadata": {},
     "output_type": "execute_result"
    }
   ],
   "source": [
    "x = np.array([1,2])\n",
    "c0, c1 = (1,6)\n",
    "eps = np.sqrt(np.finfo(float).eps)\n",
    "approx_fprime(x, f2, [eps, eps], c0, c1)\n",
    "# Градиент функции в точки (1,2) совпадает с результатом ручного вычисления по у \n",
    "# и есть небольшая погрешность по х ( думаю за счет моего округления)"
   ]
  },
  {
   "cell_type": "markdown",
   "metadata": {},
   "source": [
    "**Задание 2:**\n",
    "Градиентный спуск своими руками"
   ]
  },
  {
   "cell_type": "code",
   "execution_count": 68,
   "metadata": {},
   "outputs": [],
   "source": [
    "x = np.array([100, 200])"
   ]
  },
  {
   "cell_type": "code",
   "execution_count": 38,
   "metadata": {},
   "outputs": [],
   "source": [
    "def f(x,c0,c1):\n",
    "    return c0*(x[0]**2) + c1*(x[1]**2)"
   ]
  },
  {
   "cell_type": "code",
   "execution_count": 39,
   "metadata": {},
   "outputs": [
    {
     "data": {
      "text/plain": [
       "50000"
      ]
     },
     "execution_count": 39,
     "metadata": {},
     "output_type": "execute_result"
    }
   ],
   "source": [
    "round(f(x,c0,c1),1)"
   ]
  },
  {
   "cell_type": "code",
   "execution_count": 40,
   "metadata": {},
   "outputs": [],
   "source": [
    "x = np.array([100, 200])\n",
    "c0, c1 = (1,1)\n",
    "learning_rate = 0.1"
   ]
  },
  {
   "cell_type": "code",
   "execution_count": 41,
   "metadata": {},
   "outputs": [
    {
     "data": {
      "text/plain": [
       "array([200., 400.])"
      ]
     },
     "execution_count": 41,
     "metadata": {},
     "output_type": "execute_result"
    }
   ],
   "source": [
    "eps = np.sqrt(np.finfo(float).eps)\n",
    "grad = approx_fprime(x, f, [eps, eps],c0,c1)\n",
    "grad"
   ]
  },
  {
   "cell_type": "code",
   "execution_count": 105,
   "metadata": {},
   "outputs": [],
   "source": [
    "x = np.array([100, 200])"
   ]
  },
  {
   "cell_type": "code",
   "execution_count": 106,
   "metadata": {},
   "outputs": [
    {
     "name": "stdout",
     "output_type": "stream",
     "text": [
      "Минимум достигается в:  [0.00037414 0.00074828]\n",
      "Значение функции в минимуме:  0.0\n"
     ]
    }
   ],
   "source": [
    "y1 = f(x,c0,c1)\n",
    "y2 = 0\n",
    "for i in range(100):\n",
    "    #print (y1)\n",
    "    grad= approx_fprime(x, f, [eps, eps],c0,c1) # посчитали градиент в х\n",
    "    x = x - learning_rate*grad  # расчитали следующие значение х\n",
    "    y2 = round(f(x,c0,c1),6)  #  вычислили значение функции в новой точки х\n",
    "    #print(y2)\n",
    "    if (y1- y2) > 0:  # если уменьшение значения функции происходит, то продолжаем искать минимум\n",
    "        y1= y2\n",
    "        i= i + 1\n",
    "    else:\n",
    "        print(\"Минимум достигается в: \", x)\n",
    "        print(\"Значение функции в минимуме: \", round(f(x,c0,c1),5))\n",
    "        break \n",
    " \n",
    " # значение функции 0 и значение х так же стремиться к нулевому значению       "
   ]
  },
  {
   "cell_type": "markdown",
   "metadata": {},
   "source": [
    "**Проверка с помощью встроенной функции numpy:**"
   ]
  },
  {
   "cell_type": "code",
   "execution_count": 107,
   "metadata": {},
   "outputs": [],
   "source": [
    "def fm(x):\n",
    "    return (x[0]**2) + (x[1]**2)"
   ]
  },
  {
   "cell_type": "code",
   "execution_count": 108,
   "metadata": {},
   "outputs": [],
   "source": [
    "x0 = np.array([100, 200])"
   ]
  },
  {
   "cell_type": "code",
   "execution_count": 109,
   "metadata": {},
   "outputs": [
    {
     "name": "stdout",
     "output_type": "stream",
     "text": [
      "Optimization terminated successfully.\n",
      "         Current function value: 0.000000\n",
      "         Iterations: 85\n",
      "         Function evaluations: 164\n"
     ]
    }
   ],
   "source": [
    "res = minimize(fm,x0,method='nelder-mead', options={'xtol': 1e-8, 'disp':True})"
   ]
  },
  {
   "cell_type": "code",
   "execution_count": null,
   "metadata": {},
   "outputs": [],
   "source": [
    "вычисление через numpy показывает значение функции так же 0. "
   ]
  }
 ],
 "metadata": {
  "kernelspec": {
   "display_name": "Python 3",
   "language": "python",
   "name": "python3"
  },
  "language_info": {
   "codemirror_mode": {
    "name": "ipython",
    "version": 3
   },
   "file_extension": ".py",
   "mimetype": "text/x-python",
   "name": "python",
   "nbconvert_exporter": "python",
   "pygments_lexer": "ipython3",
   "version": "3.7.4"
  }
 },
 "nbformat": 4,
 "nbformat_minor": 2
}
