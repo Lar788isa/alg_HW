{
 "cells": [
  {
   "cell_type": "markdown",
   "metadata": {},
   "source": [
    "**Задание 2**\n",
    "\n",
    "Вычислите производную tg^2(sin(x) + cos(2x+3))$ в точке x_0=1 на python и на бумаге (просто подставить точку в производную и ничего не упрощать)."
   ]
  },
  {
   "cell_type": "code",
   "execution_count": 19,
   "metadata": {},
   "outputs": [],
   "source": [
    "x = symbols('x')"
   ]
  },
  {
   "cell_type": "code",
   "execution_count": 20,
   "metadata": {},
   "outputs": [
    {
     "data": {
      "text/latex": [
       "$\\displaystyle 2 \\left(- 2 \\sin{\\left(2 x + 3 \\right)} + \\cos{\\left(x \\right)}\\right) \\left(\\tan^{2}{\\left(\\sin{\\left(x \\right)} + \\cos{\\left(2 x + 3 \\right)} \\right)} + 1\\right) \\tan{\\left(\\sin{\\left(x \\right)} + \\cos{\\left(2 x + 3 \\right)} \\right)}$"
      ],
      "text/plain": [
       "2*(-2*sin(2*x + 3) + cos(x))*(tan(sin(x) + cos(2*x + 3))**2 + 1)*tan(sin(x) + cos(2*x + 3))"
      ]
     },
     "execution_count": 20,
     "metadata": {},
     "output_type": "execute_result"
    }
   ],
   "source": [
    "f_diff = diff(pow(tan(sin(x) + cos(2*x +3)),2)) #  посчитаем производную \n",
    "f_diff"
   ]
  },
  {
   "cell_type": "code",
   "execution_count": 21,
   "metadata": {},
   "outputs": [],
   "source": [
    "# Закодируем формулу производной \n",
    "def f_diff(x):\n",
    "    d1 = math.sin(x) + math.cos(2*x + 3)\n",
    "    return 2*((-2)*math.sin(2*x + 3) + math.cos(x))*(pow(tan(d1),2) + 1)*math.tan(d1)"
   ]
  },
  {
   "cell_type": "code",
   "execution_count": 22,
   "metadata": {},
   "outputs": [
    {
     "data": {
      "text/latex": [
       "$\\displaystyle 55.385917635338$"
      ],
      "text/plain": [
       "55.3859176353380"
      ]
     },
     "execution_count": 22,
     "metadata": {},
     "output_type": "execute_result"
    }
   ],
   "source": [
    "# Вычислим значение производной в точке х = 1\n",
    "f_diff(1)"
   ]
  },
  {
   "cell_type": "code",
   "execution_count": 77,
   "metadata": {},
   "outputs": [
    {
     "data": {
      "text/plain": [
       "'\"\\nиспользуем сокращение : d1 = sin(x) + cos(2*x + 3)\\n\\n   (tan^2(d1))\\' = 2*tan(d1)*(tan(d1))\\'= 2*tan(d1) * 1/cos^2(d1)* (d1)\\' = \\n\\n= 2*tan(d1) * (cos(x)- 2sin(2x +3)) * 1/cos^2(d1)= 2*tan(d1) * (cos(x)- 2sin(2x +3)) *(tan^2(d1) + 1)\\n\\nподставим значение х=1\\nd1 = 1.01364\\n\\n2*tan(1.01364)*(cos(1) - 2sin(5)) * (tan^2(1.01364) + 1) = 2*0.017699 *(0.8255)*(0+1) = 0.029\\n\\n'"
      ]
     },
     "execution_count": 77,
     "metadata": {},
     "output_type": "execute_result"
    }
   ],
   "source": [
    "\"\"\"\"\"\"\"\"\"\"\n",
    "используем сокращение : d1 = sin(x) + cos(2*x + 3)\n",
    "\n",
    "   (tan^2(d1))' = 2*tan(d1)*(tan(d1))'= 2*tan(d1) * 1/cos^2(d1)* (d1)' = \n",
    "\n",
    "= 2*tan(d1) * (cos(x)- 2sin(2x +3)) * 1/cos^2(d1)= 2*tan(d1) * (cos(x)- 2sin(2x +3)) *(tan^2(d1) + 1)\n",
    "\n",
    "подставим значение х=1\n",
    "d1 = 1.01364\n",
    "\n",
    "2*tan(1.01364)*(cos(1) - 2sin(5)) * (tan^2(1.01364) + 1) = 2*0.017699 *(0.8255)*(0+1) = 0.029\n",
    "\n",
    "\"\"\"\"\"\n",
    "# НЕ совпало решение ручное и на python\n"
   ]
  },
  {
   "cell_type": "markdown",
   "metadata": {},
   "source": [
    "**Задание 5**\n",
    "Найдите собственные значения и собственные вектора матрицы (на python и на бумаге)\n",
    "\n",
    "[[1, 4],\n",
    "\n",
    "[1, 1]]"
   ]
  },
  {
   "cell_type": "code",
   "execution_count": 58,
   "metadata": {},
   "outputs": [],
   "source": [
    "a = np.array([\n",
    "    [1,4],\n",
    "    [1,1]\n",
    "])"
   ]
  },
  {
   "cell_type": "code",
   "execution_count": 69,
   "metadata": {},
   "outputs": [
    {
     "name": "stdout",
     "output_type": "stream",
     "text": [
      "Собственное значение 3.0000000000000004\n",
      "Соответствующий ему собственный вектор[ 0.89442719 -0.89442719]\n",
      "Собственное значение -0.9999999999999996\n",
      "Соответствующий ему собственный вектор[0.4472136 0.4472136]\n"
     ]
    }
   ],
   "source": [
    "# вычислим собственные значения и соответствующие собственне вектора.\n",
    "# Матрица 2х2, значить значений будет две пары.\n",
    "w, v = np.linalg.eig(a)\n",
    "for i in range(len(w)):\n",
    "    print (\"Собственное значение \" + str(w[i]))\n",
    "    print (\"Соответствующий ему собственный вектор\" + str(v[i]))"
   ]
  },
  {
   "cell_type": "code",
   "execution_count": 70,
   "metadata": {},
   "outputs": [
    {
     "data": {
      "text/plain": [
       "array([ 2.68328157, -2.68328157])"
      ]
     },
     "execution_count": 70,
     "metadata": {},
     "output_type": "execute_result"
    }
   ],
   "source": [
    "w[0]*v[0]"
   ]
  },
  {
   "cell_type": "code",
   "execution_count": 66,
   "metadata": {},
   "outputs": [
    {
     "data": {
      "text/plain": [
       "array([-2.68328157e+00,  1.11022302e-16])"
      ]
     },
     "execution_count": 66,
     "metadata": {},
     "output_type": "execute_result"
    }
   ],
   "source": [
    "np.dot(a,v[0])"
   ]
  },
  {
   "cell_type": "code",
   "execution_count": 67,
   "metadata": {},
   "outputs": [
    {
     "data": {
      "text/plain": [
       "array([-0.4472136, -0.4472136])"
      ]
     },
     "execution_count": 67,
     "metadata": {},
     "output_type": "execute_result"
    }
   ],
   "source": [
    "w[1]*v[1]"
   ]
  },
  {
   "cell_type": "code",
   "execution_count": 68,
   "metadata": {},
   "outputs": [
    {
     "data": {
      "text/plain": [
       "array([-3.13049517,  3.57770876])"
      ]
     },
     "execution_count": 68,
     "metadata": {},
     "output_type": "execute_result"
    }
   ],
   "source": [
    "np.dot(a,v[1])\n",
    "\n",
    "# Значения не сопадают  ?!! "
   ]
  },
  {
   "cell_type": "code",
   "execution_count": null,
   "metadata": {},
   "outputs": [],
   "source": []
  },
  {
   "cell_type": "code",
   "execution_count": null,
   "metadata": {},
   "outputs": [],
   "source": [
    "# Сделаем расчет в ручную \n",
    "\n",
    "\"\"\"\"\"\"\"\"\n",
    "1-L   4\n",
    "1    1-L\n",
    "Собственные значения (1-L)(1-L) = 4  - это решение квадратного уровнения  L*L -2*L -3 =0\n",
    "L = -1 и 3 это и есть собственные значения ( совпадают с решением выше)\n",
    "\n",
    "Найдем вектора соответствующие им. \n",
    "(1-(-1))*x + 4*y = 0\n",
    "x + (1-(-1))*y = 0\n",
    "Получаем первый вектор х=-1, у = 0.5\n",
    "\n",
    "Второй вектор:\n",
    "(1-3)*x + 4y = 0\n",
    "x + (1-3)*y = 0 \n",
    "Получаем : х = 3, у = 1.5\n",
    "\n",
    "\"\"\"\"\"\"\"\"\n",
    "# Проверим ручной расчет\n"
   ]
  },
  {
   "cell_type": "code",
   "execution_count": 73,
   "metadata": {},
   "outputs": [],
   "source": [
    "v1=np.array([-1, 0.5])"
   ]
  },
  {
   "cell_type": "code",
   "execution_count": 74,
   "metadata": {},
   "outputs": [
    {
     "data": {
      "text/plain": [
       "array([ 1. , -0.5])"
      ]
     },
     "execution_count": 74,
     "metadata": {},
     "output_type": "execute_result"
    }
   ],
   "source": [
    "(-1)*v1"
   ]
  },
  {
   "cell_type": "code",
   "execution_count": 75,
   "metadata": {},
   "outputs": [
    {
     "data": {
      "text/plain": [
       "array([ 1. , -0.5])"
      ]
     },
     "execution_count": 75,
     "metadata": {},
     "output_type": "execute_result"
    }
   ],
   "source": [
    "np.dot(a,v1)\n",
    "\n",
    "#  Значение умножения матрицы на собственный вектор и этот вектор на собственное соответствующее значение \n",
    "#    совпадает! Решение верное "
   ]
  },
  {
   "cell_type": "code",
   "execution_count": 78,
   "metadata": {},
   "outputs": [],
   "source": [
    "v2=np.array([3, 1.5])"
   ]
  },
  {
   "cell_type": "code",
   "execution_count": 79,
   "metadata": {},
   "outputs": [
    {
     "data": {
      "text/plain": [
       "array([9. , 4.5])"
      ]
     },
     "execution_count": 79,
     "metadata": {},
     "output_type": "execute_result"
    }
   ],
   "source": [
    "(3)*v2"
   ]
  },
  {
   "cell_type": "code",
   "execution_count": 80,
   "metadata": {},
   "outputs": [
    {
     "data": {
      "text/plain": [
       "array([9. , 4.5])"
      ]
     },
     "execution_count": 80,
     "metadata": {},
     "output_type": "execute_result"
    }
   ],
   "source": [
    "np.dot(a,v2)\n",
    "\n",
    "#  Значение умножения матрицы на собственный вектор и этот вектор на собственное соответствующее значение \n",
    "#    совпадает! Решение верное "
   ]
  },
  {
   "cell_type": "code",
   "execution_count": null,
   "metadata": {},
   "outputs": [],
   "source": []
  }
 ],
 "metadata": {
  "kernelspec": {
   "display_name": "Python 3",
   "language": "python",
   "name": "python3"
  },
  "language_info": {
   "codemirror_mode": {
    "name": "ipython",
    "version": 3
   },
   "file_extension": ".py",
   "mimetype": "text/x-python",
   "name": "python",
   "nbconvert_exporter": "python",
   "pygments_lexer": "ipython3",
   "version": "3.7.4"
  }
 },
 "nbformat": 4,
 "nbformat_minor": 2
}
