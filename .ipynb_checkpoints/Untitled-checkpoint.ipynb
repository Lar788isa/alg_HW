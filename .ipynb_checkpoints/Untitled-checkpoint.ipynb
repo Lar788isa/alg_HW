{
 "cells": [
  {
   "cell_type": "markdown",
   "metadata": {},
   "source": [
    "Задание 1:\n",
    "Посчитайте частные производные функций (как обычно, необходимо решение на бумажке или в LaTeX и на numpy):\n",
    "\n",
    "1) f(x,y)=2x^2y^3 + 1/x + y^2x + 7, а для этой функции также градиент в точке (1,2)\n",
    "- решение:\n",
    "    f'x = 4*x*(y**3)- 1/(x*x) + (y*y)- частная производная по х\n",
    "    f'y = 6*(x*x)*(y*y) +2yx  - частная производная по y\n",
    "    \n",
    "    f'x(1,1)= 4*1*(1**3) -1/(1*1) + (1*1) = 4  значение частной производной по х в точки (1,1)\n",
    "    f'y(1,1)= 6*(1*1)*(1*1) + 2*1*1 = 8  значение частной производной по у в точки (1,1)\n",
    "    \n",
    "    grad (1,1) = (4,8)\n",
    "\n",
    "2) f(x,y)=x^2y - sin(xy) + cos(x^2) + 6y"
   ]
  },
  {
   "cell_type": "code",
   "execution_count": 1,
   "metadata": {},
   "outputs": [],
   "source": [
    "import numpy as np\n",
    "from scipy.optimize import approx_fprime"
   ]
  },
  {
   "cell_type": "code",
   "execution_count": null,
   "metadata": {},
   "outputs": [],
   "source": []
  },
  {
   "cell_type": "markdown",
   "metadata": {},
   "source": [
    "**Задание 2:**\n",
    "Градиентный спуск своими руками"
   ]
  },
  {
   "cell_type": "code",
   "execution_count": null,
   "metadata": {},
   "outputs": [],
   "source": [
    "def f(x):\n",
    "    return (x[0]**2) + (x[1]**2)"
   ]
  },
  {
   "cell_type": "code",
   "execution_count": null,
   "metadata": {},
   "outputs": [],
   "source": [
    "x = np.array([100, 200])\n",
    "learning_rate = 0.1"
   ]
  },
  {
   "cell_type": "code",
   "execution_count": null,
   "metadata": {},
   "outputs": [],
   "source": [
    "for i in range(100):\n",
    "    # Calculate gradient\n",
    "    grad = # Your code here (функция для вычисления градиента есть в лекционном ноутбуке)\n",
    "    \n",
    "    # Update x with gradient\n",
    "    x = # Your code here (смотри слайд презентации про градиентный спуск)"
   ]
  },
  {
   "cell_type": "code",
   "execution_count": null,
   "metadata": {},
   "outputs": [],
   "source": [
    "print(\"Минимум достигается в: \", x)\n",
    "print(\"Значение функции в минимуме: \", f(x))\n",
    "Проверка с помощью встроенной функции numpy:"
   ]
  }
 ],
 "metadata": {
  "kernelspec": {
   "display_name": "Python 3",
   "language": "python",
   "name": "python3"
  },
  "language_info": {
   "codemirror_mode": {
    "name": "ipython",
    "version": 3
   },
   "file_extension": ".py",
   "mimetype": "text/x-python",
   "name": "python",
   "nbconvert_exporter": "python",
   "pygments_lexer": "ipython3",
   "version": "3.7.4"
  }
 },
 "nbformat": 4,
 "nbformat_minor": 2
}
