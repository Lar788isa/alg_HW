{
 "cells": [
  {
   "cell_type": "markdown",
   "metadata": {},
   "source": [
    "**Задание 1\n",
    "Монетку подбрасывают 15 раз, найдите вероятность выпадения простого числа орлов (решение на бумажке и на python).**\n",
    "\n",
    "-простое число из 15 раз - 2,3,5,7,11,13\n",
    "- не нашла встроенную функцию вычисления данной вероятности в python, так что сделала по шагова как на бумажке"
   ]
  },
  {
   "cell_type": "code",
   "execution_count": 2,
   "metadata": {},
   "outputs": [],
   "source": [
    "import numpy as np\n",
    "from scipy.stats import *"
   ]
  },
  {
   "cell_type": "code",
   "execution_count": 16,
   "metadata": {},
   "outputs": [],
   "source": [
    "# запишем функцию факториал \n",
    "def factor (n):\n",
    "    if n==1: return 1\n",
    "    else: return n* factor(n-1)"
   ]
  },
  {
   "cell_type": "code",
   "execution_count": 18,
   "metadata": {},
   "outputs": [],
   "source": [
    "# создадим функцию комбинаций\n",
    "def combin(n,k):\n",
    "    return (factor(n)/(factor(k)*(factor(n-k))))"
   ]
  },
  {
   "cell_type": "code",
   "execution_count": 20,
   "metadata": {},
   "outputs": [],
   "source": [
    "# создадим функцию вычисления вероятности\n",
    "def ver_(n,k):\n",
    "    return (combin(n,k))*(0.5**k)*(0.5**(n-k))"
   ]
  },
  {
   "cell_type": "code",
   "execution_count": 21,
   "metadata": {},
   "outputs": [
    {
     "data": {
      "text/plain": [
       "0.003204345703125"
      ]
     },
     "execution_count": 21,
     "metadata": {},
     "output_type": "execute_result"
    }
   ],
   "source": [
    "ver_(15,2)"
   ]
  },
  {
   "cell_type": "code",
   "execution_count": 22,
   "metadata": {},
   "outputs": [
    {
     "data": {
      "text/plain": [
       "0.3499755859375"
      ]
     },
     "execution_count": 22,
     "metadata": {},
     "output_type": "execute_result"
    }
   ],
   "source": [
    "# Теперь посчитаем сумму вероятностей каждого простого числа и сложим. Получим общую вероятность выпадания простого числа\n",
    "prob_prime = ver_(15,2)+ ver_(15,3) + ver_(15,5) + ver_(15,7) + ver_(15,11) + ver_(15,13)\n",
    "prob_prime\n",
    "\n",
    "# Получим общую вероятность выпадания простого числа орлов"
   ]
  },
  {
   "cell_type": "markdown",
   "metadata": {},
   "source": [
    "**Задание 2**\n",
    "Создайте свою дискретную случайную величину с не менее, чем 10 значениями. Просемплируйте 1000 случайных значений, постройте гистограмму плотности распределения по выборке, посчитайте среднее, дисперсию и медиану."
   ]
  },
  {
   "cell_type": "code",
   "execution_count": 3,
   "metadata": {},
   "outputs": [
    {
     "data": {
      "text/plain": [
       "1.0"
      ]
     },
     "execution_count": 3,
     "metadata": {},
     "output_type": "execute_result"
    }
   ],
   "source": [
    "elements = [1, 2, 3, 4, 7, 6, 5, 8, 9, 10, 11,12]\n",
    "\n",
    "probabilities = [0.5, 0.4, 0.02, 0.02, 0.01, 0.01, 0.01, 0.01, 0.005, 0.005, 0.005, 0.005]\n",
    "sum(probabilities)"
   ]
  },
  {
   "cell_type": "code",
   "execution_count": 4,
   "metadata": {},
   "outputs": [
    {
     "data": {
      "text/plain": [
       "array([2, 2, 2, 1, 1, 2, 1, 2, 2, 7])"
      ]
     },
     "execution_count": 4,
     "metadata": {},
     "output_type": "execute_result"
    }
   ],
   "source": [
    "# Создам дискретную величину с 10-тью значениями \n",
    "val_disc= np.random.choice(elements, 10, p=probabilities)\n",
    "val_disc"
   ]
  },
  {
   "cell_type": "code",
   "execution_count": 5,
   "metadata": {},
   "outputs": [],
   "source": [
    "val_disc = np.random.choice(elements, 1000, p=probabilities)"
   ]
  },
  {
   "cell_type": "code",
   "execution_count": 6,
   "metadata": {},
   "outputs": [],
   "source": [
    "from scipy.stats import norm"
   ]
  },
  {
   "cell_type": "code",
   "execution_count": 7,
   "metadata": {},
   "outputs": [
    {
     "ename": "NameError",
     "evalue": "name 'sts' is not defined",
     "output_type": "error",
     "traceback": [
      "\u001b[0;31m---------------------------------------------------------------------------\u001b[0m",
      "\u001b[0;31mNameError\u001b[0m                                 Traceback (most recent call last)",
      "\u001b[0;32m<ipython-input-7-f670047fe4e9>\u001b[0m in \u001b[0;36m<module>\u001b[0;34m\u001b[0m\n\u001b[0;32m----> 1\u001b[0;31m \u001b[0mrv\u001b[0m \u001b[0;34m=\u001b[0m \u001b[0msts\u001b[0m\u001b[0;34m.\u001b[0m\u001b[0mnorm\u001b[0m\u001b[0;34m(\u001b[0m\u001b[0;36m2\u001b[0m\u001b[0;34m,\u001b[0m \u001b[0;36m0.5\u001b[0m\u001b[0;34m)\u001b[0m\u001b[0;34m\u001b[0m\u001b[0;34m\u001b[0m\u001b[0m\n\u001b[0m\u001b[1;32m      2\u001b[0m \u001b[0mv\u001b[0m\u001b[0;34m\u001b[0m\u001b[0;34m\u001b[0m\u001b[0m\n",
      "\u001b[0;31mNameError\u001b[0m: name 'sts' is not defined"
     ]
    }
   ],
   "source": [
    "rv = sts.norm(2, 0.5)\n",
    "v"
   ]
  },
  {
   "cell_type": "code",
   "execution_count": null,
   "metadata": {},
   "outputs": [],
   "source": []
  },
  {
   "cell_type": "code",
   "execution_count": null,
   "metadata": {},
   "outputs": [],
   "source": []
  },
  {
   "cell_type": "code",
   "execution_count": null,
   "metadata": {},
   "outputs": [],
   "source": []
  },
  {
   "cell_type": "code",
   "execution_count": null,
   "metadata": {},
   "outputs": [],
   "source": []
  },
  {
   "cell_type": "code",
   "execution_count": 6,
   "metadata": {},
   "outputs": [],
   "source": [
    "import matplotlib.pyplot as plt"
   ]
  },
  {
   "cell_type": "code",
   "execution_count": 7,
   "metadata": {},
   "outputs": [
    {
     "data": {
      "image/png": "[encoded data removed]",
      "text/plain": [
       "<Figure size 432x288 with 1 Axes>"
      ]
     },
     "metadata": {
      "needs_background": "light"
     },
     "output_type": "display_data"
    }
   ],
   "source": [
    "plt.hist(val_disc,20,density=True, color='Green')\n",
    "plt.show()"
   ]
  },
  {
   "cell_type": "code",
   "execution_count": 4,
   "metadata": {},
   "outputs": [],
   "source": [
    "import statistics"
   ]
  },
  {
   "cell_type": "code",
   "execution_count": 11,
   "metadata": {},
   "outputs": [
    {
     "name": "stdout",
     "output_type": "stream",
     "text": [
      "Медиана:  2.0\n"
     ]
    }
   ],
   "source": [
    "print('Медиана: ', statistics.median(val_disc))"
   ]
  },
  {
   "cell_type": "code",
   "execution_count": 15,
   "metadata": {},
   "outputs": [
    {
     "name": "stdout",
     "output_type": "stream",
     "text": [
      "Среднее значение:  1\n"
     ]
    }
   ],
   "source": [
    "\n",
    "print('Среднее значение: ', statistics.mean(val_disc))"
   ]
  },
  {
   "cell_type": "code",
   "execution_count": 13,
   "metadata": {},
   "outputs": [
    {
     "name": "stdout",
     "output_type": "stream",
     "text": [
      "Дисперсия -' 2.0000000000000004\n"
     ]
    }
   ],
   "source": [
    "# Дисперсия это - квадрат стандартного отклонения\n",
    "\n",
    "print(f\"Дисперсия -' {statistics.pstdev(val_disc)**2}\")"
   ]
  },
  {
   "cell_type": "markdown",
   "metadata": {},
   "source": [
    "**Задание 3**\n",
    "\n",
    "Задача про 3 монеты Пусть брошены 3 уравновешенные монеты. Рассмотрим 3 события: A1 - монеты 1 и 2 упали одной и той же стороной, A2 - монеты 2 и 3 упали одной и той же стороной, A3 - монеты 1 и 3 упали одной и той же стороной. Покажите, почему эти 3 события (A1, A2, A3) являются попарно независимыми, но не являются независимыми в совокупности."
   ]
  },
  {
   "cell_type": "markdown",
   "metadata": {},
   "source": [
    "- Событие А1 : вероятность этого события Р(А1) = (1/2 * 1/2 * 1/2) = 1/8 \n",
    "- Событие А2 и А3 : вероятность аналогичная = 1/8\n",
    "- События независимы, если Р(А1 А2) =1/8 * 1/8 = 1/64 и Р(А1)*Р(А2) = 1/8 *1/8 = 1/64\n",
    "    т. е. Р(А1 А2) = Р (А2 А3) = Р(А3 А1) = 1/64 и попарно умножение Р(А1) и Р(А2) или Р(А3) равно 1/64\n",
    "    события попарно независимы\n",
    "    \n",
    "- Вероятность события Р(А1 А2 А3) = 0, а вероятность Р(А1) * Р(А2)* Р(А3) = 1/512\n",
    "    События в совокупности не являются независимыми"
   ]
  },
  {
   "cell_type": "markdown",
   "metadata": {},
   "source": [
    "**Задание 4 (формула полной вероятности)**\n",
    "В магазин привезли устройства с 3-х разных предприятий. Соотношение устройств следующее: 20% - продукция первого предприятия, 30% - продукция второго предприятия, 50% - продукция третьего предприятия; далее, 10% продукции первого предприятия высшего сорта, на втором предприятии - 5% и на третьем - 20% продукции высшего сорта. Найти вероятность того, что случайно купленная новая продукция окажется высшего сорта"
   ]
  },
  {
   "cell_type": "markdown",
   "metadata": {},
   "source": [
    "- Первое предприятие: 20% = вероятности 1/5. Из них высший сорт 10% = вероятность 1/10. Вероятность парная =1/10*1/5 = 1/50\n",
    "- Второе предприятие: 30% = вероятность 1/3. Высший сорт 5% = вероятность 1/20. Вероятность парная = 1/3 * 1/20 = 1/60\n",
    "- Третье : 50% = вероятность 1/2. Высший сорт 20% = вероятность 1/5. Вероятность парная = 1/2 * 1/5 = 1/10\n",
    "    \n",
    "    **Вероятность того , что купленная вещь будет высший сорт = сумме 1/50 + 1/60+1/10 = 410/3000 = 0.1367**"
   ]
  },
  {
   "cell_type": "code",
   "execution_count": null,
   "metadata": {},
   "outputs": [],
   "source": []
  }
 ],
 "metadata": {
  "kernelspec": {
   "display_name": "Python 3",
   "language": "python",
   "name": "python3"
  },
  "language_info": {
   "codemirror_mode": {
    "name": "ipython",
    "version": 3
   },
   "file_extension": ".py",
   "mimetype": "text/x-python",
   "name": "python",
   "nbconvert_exporter": "python",
   "pygments_lexer": "ipython3",
   "version": "3.7.4"
  }
 },
 "nbformat": 4,
 "nbformat_minor": 2
}
